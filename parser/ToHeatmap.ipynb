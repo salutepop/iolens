{
 "cells": [
  {
   "cell_type": "code",
   "execution_count": 19,
   "metadata": {},
   "outputs": [],
   "source": [
    "import pandas as pd"
   ]
  },
  {
   "cell_type": "code",
   "execution_count": 20,
   "metadata": {},
   "outputs": [],
   "source": [
    "def getHeatmapData(df, colname, step, outfile):\n",
    "    min = df[colname].min()\n",
    "    max = df[colname].max()\n",
    "    quant = []\n",
    "    for i in range(step):\n",
    "        quant.append(i * (1 / step) * max)\n",
    "    quant.append(max)\n",
    "    df.groupby(['time', pd.cut(df[colname], quant)]).size().to_csv(outfile)"
   ]
  },
  {
   "cell_type": "code",
   "execution_count": 21,
   "metadata": {},
   "outputs": [],
   "source": [
    "def getHeatmapDataAllStep(df, colname, outfile):\n",
    "    min = df[colname].min()\n",
    "    max = df[colname].max()\n",
    "    quant = range(0, 33)\n",
    "    \n",
    "    df.groupby(['time', pd.cut(df[colname], quant)]).size().to_csv(outfile)"
   ]
  },
  {
   "cell_type": "code",
   "execution_count": 22,
   "metadata": {},
   "outputs": [
    {
     "name": "stdout",
     "output_type": "stream",
     "text": [
      "idx              int64\n",
      "issue_time     float64\n",
      "cmd_type        object\n",
      "lba              int64\n",
      "size(KB)         int64\n",
      "latency(us)      int64\n",
      "queue_cnt        int64\n",
      "cpu_no           int64\n",
      "host_no          int64\n",
      "tag              int64\n",
      "nextlba          int64\n",
      "continuity       int64\n",
      "time             int32\n",
      "dtype: object\n"
     ]
    }
   ],
   "source": [
    "inputFile = './parsedData/trace_scsi.txt.json.calc.csv'\n",
    "df = pd.read_csv(inputFile)\n",
    "df['time'] = df['issue_time'].astype(int)\n",
    "print(df.dtypes)"
   ]
  },
  {
   "cell_type": "code",
   "execution_count": 23,
   "metadata": {},
   "outputs": [],
   "source": [
    "file_lba = './parsedData/heatmap_lba.csv'\n",
    "file_queue = './parsedData/heatmap_queue.csv'\n",
    "file_latency = './parsedData/heatmap_latency.csv'\n",
    "file_latencypercentile = './parsedData/percentile_performance.csv'\n",
    "\n",
    "\n",
    "# getHeatmapData(df, 'lba', 20, file_lba)\n",
    "# getHeatmapData(df, 'latency(us)', 20, file_latency)\n",
    "# getHeatmapDataAllStep(df, 'queue_cnt', file_queue)\n",
    "\n",
    "df['lt99'] = df.groupby(['time'])['latency(us)'].transform(lambda x: x.quantile(q=0.99, interpolation='nearest'))\n",
    "df['lt99_99'] = df.groupby(['time'])['latency(us)'].transform(lambda x: x.quantile(q=0.9999, interpolation='nearest'))\n",
    "df['lt99_9999'] = df.groupby(['time'])['latency(us)'].transform(lambda x: x.quantile(q=0.999999, interpolation='nearest'))\n",
    "df['lt100'] = df.groupby(['time'])['latency(us)'].transform(lambda x: x.quantile(q=1.0, interpolation='nearest'))\n",
    "df['throughput'] = df.groupby(['time'])['size(KB)'].transform(lambda x: x.sum())\n",
    "# getLatencyData(df, file_latency)\n",
    "# 위 함수 수행 후, y축 값 엑셀에서 손으로 변경하고, tab -> comma 찾아 바꾸기 해야함\n"
   ]
  },
  {
   "cell_type": "code",
   "execution_count": 24,
   "metadata": {},
   "outputs": [],
   "source": [
    "df.groupby(['time']).max().to_csv(file_latencypercentile)"
   ]
  }
 ],
 "metadata": {
  "kernelspec": {
   "display_name": "Python 3",
   "language": "python",
   "name": "python3"
  },
  "language_info": {
   "codemirror_mode": {
    "name": "ipython",
    "version": 3
   },
   "file_extension": ".py",
   "mimetype": "text/x-python",
   "name": "python",
   "nbconvert_exporter": "python",
   "pygments_lexer": "ipython3",
   "version": "3.11.4"
  }
 },
 "nbformat": 4,
 "nbformat_minor": 2
}
