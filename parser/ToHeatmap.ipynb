{
 "cells": [
  {
   "cell_type": "code",
   "execution_count": 1,
   "metadata": {},
   "outputs": [],
   "source": [
    "import pandas as pd"
   ]
  },
  {
   "cell_type": "code",
   "execution_count": 2,
   "metadata": {},
   "outputs": [],
   "source": [
    "def getHeatmapData(df, colname, step, outfile):\n",
    "    min = df[colname].min()\n",
    "    max = df[colname].max()\n",
    "    quant = []\n",
    "    for i in range(step):\n",
    "        quant.append(i * (1 / step) * max)\n",
    "    quant.append(max)\n",
    "    df.groupby(['time', pd.cut(df[colname], quant)]).size().to_csv(outfile)"
   ]
  },
  {
   "cell_type": "code",
   "execution_count": 3,
   "metadata": {},
   "outputs": [],
   "source": [
    "def getHeatmapDataAllStep(df, colname, outfile):\n",
    "    min = df[colname].min()\n",
    "    max = df[colname].max()\n",
    "    quant = range(0, 33)\n",
    "    \n",
    "    df.groupby(['time', pd.cut(df[colname], quant)]).size().to_csv(outfile)"
   ]
  },
  {
   "cell_type": "code",
   "execution_count": 4,
   "metadata": {},
   "outputs": [
    {
     "name": "stdout",
     "output_type": "stream",
     "text": [
      "idx              int64\n",
      "issue_time     float64\n",
      "cmd_type        object\n",
      "lba              int64\n",
      "size(KB)         int64\n",
      "latency(us)      int64\n",
      "queue_cnt        int64\n",
      "cpu_no           int64\n",
      "host_no          int64\n",
      "tag              int64\n",
      "nextlba          int64\n",
      "continuity       int64\n",
      "sec              int32\n",
      "dtype: object\n"
     ]
    }
   ],
   "source": [
    "inputFile = './parsedData/trace_scsi.txt.json.calc.csv'\n",
    "df = pd.read_csv(inputFile)\n",
    "df['sec'] = df['issue_time'].astype(int)\n",
    "print(df.dtypes)"
   ]
  },
  {
   "cell_type": "code",
   "execution_count": 5,
   "metadata": {},
   "outputs": [
    {
     "name": "stderr",
     "output_type": "stream",
     "text": [
      "C:\\Users\\CM\\AppData\\Local\\Temp\\ipykernel_21512\\3462011073.py:8: FutureWarning: The default of observed=False is deprecated and will be changed to True in a future version of pandas. Pass observed=False to retain current behavior or observed=True to adopt the future default and silence this warning.\n",
      "  df.groupby(['sec', pd.cut(df[colname], quant)]).size().to_csv(outfile)\n",
      "C:\\Users\\CM\\AppData\\Local\\Temp\\ipykernel_21512\\3462011073.py:8: FutureWarning: The default of observed=False is deprecated and will be changed to True in a future version of pandas. Pass observed=False to retain current behavior or observed=True to adopt the future default and silence this warning.\n",
      "  df.groupby(['sec', pd.cut(df[colname], quant)]).size().to_csv(outfile)\n",
      "C:\\Users\\CM\\AppData\\Local\\Temp\\ipykernel_21512\\2530805590.py:6: FutureWarning: The default of observed=False is deprecated and will be changed to True in a future version of pandas. Pass observed=False to retain current behavior or observed=True to adopt the future default and silence this warning.\n",
      "  df.groupby(['sec', pd.cut(df[colname], quant)]).size().to_csv(outfile)\n"
     ]
    }
   ],
   "source": [
    "file_lba = './parsedData/heatmap_lba.csv'\n",
    "file_queue = './parsedData/heatmap_queue.csv'\n",
    "file_latency = './parsedData/heatmap_latency.csv'\n",
    "\n",
    "\n",
    "getHeatmapData(df, 'lba', 20, file_lba)\n",
    "getHeatmapData(df, 'latency(us)', 20, file_latency)\n",
    "getHeatmapDataAllStep(df, 'queue_cnt', file_queue)\n",
    "\n",
    "# 위 함수 수행 후, y축 값 엑셀에서 손으로 변경하고, tab -> comma 찾아 바꾸기 해야함\n"
   ]
  }
 ],
 "metadata": {
  "kernelspec": {
   "display_name": "Python 3",
   "language": "python",
   "name": "python3"
  },
  "language_info": {
   "codemirror_mode": {
    "name": "ipython",
    "version": 3
   },
   "file_extension": ".py",
   "mimetype": "text/x-python",
   "name": "python",
   "nbconvert_exporter": "python",
   "pygments_lexer": "ipython3",
   "version": "3.11.4"
  }
 },
 "nbformat": 4,
 "nbformat_minor": 2
}
