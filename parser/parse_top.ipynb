{
 "cells": [
  {
   "cell_type": "code",
   "execution_count": 251,
   "metadata": {},
   "outputs": [],
   "source": [
    "import re"
   ]
  },
  {
   "cell_type": "code",
   "execution_count": 252,
   "metadata": {},
   "outputs": [],
   "source": [
    "class CPU:\n",
    "    name:int    # sec\n",
    "    usr:float   # %\n",
    "    sys:float   # %\n",
    "    idle:float  # %\n",
    "\n",
    "class TOP:\n",
    "    time        :str    # sec\n",
    "    cpus        :list   # # of CPU\n"
   ]
  },
  {
   "cell_type": "code",
   "execution_count": 253,
   "metadata": {},
   "outputs": [],
   "source": [
    "def get_sec(time_str):\n",
    "    h, m, s = time_str.split(':')\n",
    "    return int(h) * 3600 + int(m) * 60 + int(s)"
   ]
  },
  {
   "cell_type": "code",
   "execution_count": 254,
   "metadata": {},
   "outputs": [],
   "source": [
    "def parseCPU(cpu:str):\n",
    "    raw = CPU()\n",
    "    raw.name = 'c' + re.findall(r'%Cpu([\\d])\\s', cpu)[0]\n",
    "    raw.usr = re.findall(r'([\\d.]+)\\sus,', cpu)[0]\n",
    "    raw.sys = re.findall(r'([\\d.]+)\\ssy,', cpu)[0]\n",
    "    raw.idle = re.findall(r'([\\d.]+)\\sid,', cpu)[0]\n",
    "    return raw"
   ]
  },
  {
   "cell_type": "code",
   "execution_count": 255,
   "metadata": {},
   "outputs": [],
   "source": [
    "def parseTop(top:list):\n",
    "    raw = TOP()\n",
    "    cpus = []\n",
    "    try:\n",
    "        for line in top:\n",
    "            if not line : continue\n",
    "            if 'top' in line:\n",
    "                time = re.findall(r'top - ([\\d\\:]+)\\s', line)[0]\n",
    "                raw.time = get_sec(time)\n",
    "                continue\n",
    "            # print('line : ', line)\n",
    "            cpus.append(parseCPU(line))\n",
    "            # raw.cpus.append(cpu)\n",
    "        \n",
    "        raw.cpus = cpus\n",
    "        return raw\n",
    "    except:\n",
    "        # print(top)\n",
    "        print('except: ', raw.__dict__)"
   ]
  },
  {
   "cell_type": "code",
   "execution_count": 256,
   "metadata": {},
   "outputs": [],
   "source": [
    "def parseTrace(filename):\n",
    "    infile = open(filename, 'r')\n",
    "\n",
    "    lines=[]\n",
    "    result=[]\n",
    "    for line in infile.readlines():\n",
    "        if not line : continue\n",
    "        # print(idx, line)\n",
    "        if('top' in line):\n",
    "            if(len(lines) > 1):\n",
    "                result.append(parseTop(lines))\n",
    "                lines.clear()\n",
    "        lines.append(line)\n",
    "        \n",
    "    infile.close()\n",
    "    outfile = open(filename + '.parse', 'w')\n",
    "\n",
    "    # Header\n",
    "    outfile.write('time,')\n",
    "    for cpu in result[0].cpus:\n",
    "        outfile.write(cpu.name + '_usr,')\n",
    "        outfile.write(cpu.name + '_sys,')\n",
    "        outfile.write(cpu.name + '_idle,')\n",
    "    outfile.write('\\n')\n",
    "\n",
    "    # Data\n",
    "    startTime = result[0].time\n",
    "    for stamp in result:\n",
    "        outfile.write(str(stamp.time - startTime) + ',')\n",
    "        for cpu in stamp.cpus:\n",
    "            outfile.write(cpu.usr + ',')\n",
    "            outfile.write(cpu.sys + ',')\n",
    "            outfile.write(cpu.idle + ',')\n",
    "        outfile.write('\\n')\n",
    "    # for cpu in result[0].cpus:\n",
    "    #     outfile.write(f'{cpu.name}_usr,{cpu.name}_sys,{cpu.name}_idle\\n')\n",
    "\n",
    "    # for item in result:\n",
    "    #     # outfile.write(item.)\n",
    "    #     outfile.write(','.join(item.__dict__.values()) + '\\n')\n",
    "    \n",
    "    outfile.close()\n",
    "\n",
    "    return outfile.name"
   ]
  },
  {
   "cell_type": "code",
   "execution_count": 257,
   "metadata": {},
   "outputs": [],
   "source": [
    "filename = './raw/top.txt'\n",
    "parsedFile = parseTrace(filename)"
   ]
  }
 ],
 "metadata": {
  "kernelspec": {
   "display_name": "Python 3",
   "language": "python",
   "name": "python3"
  },
  "language_info": {
   "codemirror_mode": {
    "name": "ipython",
    "version": 3
   },
   "file_extension": ".py",
   "mimetype": "text/x-python",
   "name": "python",
   "nbconvert_exporter": "python",
   "pygments_lexer": "ipython3",
   "version": "3.11.4"
  }
 },
 "nbformat": 4,
 "nbformat_minor": 2
}
