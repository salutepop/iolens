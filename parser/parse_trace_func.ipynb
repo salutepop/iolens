{
 "cells": [
  {
   "cell_type": "code",
   "execution_count": 161,
   "metadata": {},
   "outputs": [],
   "source": [
    "import pandas as pd\n",
    "import re"
   ]
  },
  {
   "cell_type": "code",
   "execution_count": 162,
   "metadata": {},
   "outputs": [],
   "source": [
    "class TOP3:\n",
    "    time    :str\n",
    "    top3   :list\n",
    "    def __init__(self, time, top3):\n",
    "        self.time = time\n",
    "        self.top3 = top3"
   ]
  },
  {
   "cell_type": "code",
   "execution_count": 163,
   "metadata": {},
   "outputs": [],
   "source": [
    "def AppendData(dataList:list, sp:list):\n",
    "    hasKey = False\n",
    "    for data in dataList:\n",
    "        if(data[0] == sp[0]):\n",
    "            data[1] += int(sp[1])\n",
    "            data[2] += (float(sp[2]) / 1000)\n",
    "            data[3] += float(sp[4])\n",
    "            data[4] += float(sp[6])\n",
    "            return \n",
    "\n",
    "\n",
    "    if not hasKey:\n",
    "            row = []\n",
    "            row.append(sp[0])\n",
    "            row.append(int(sp[1]))\n",
    "            row.append(float(sp[2]) / 1000)\n",
    "            row.append(float(sp[4]))\n",
    "            row.append(float(sp[6]))\n",
    "            dataList.append(row)"
   ]
  },
  {
   "cell_type": "code",
   "execution_count": 164,
   "metadata": {},
   "outputs": [],
   "source": [
    "def parseFunc(time, funcLines:list):\n",
    "    threadCnt = 0\n",
    "    header = ['Function','Hit', 'Time(ms)', 'Avg(us)', 's^2(us)']\n",
    "    dataList = []\n",
    "    top10 = []\n",
    "    df = pd.DataFrame()\n",
    "\n",
    "    for line in funcLines:\n",
    "        if '==>' in line:\n",
    "            threadCnt += 1\n",
    "            continue\n",
    "        if (len(line) == 93):\n",
    "            AppendData(dataList, line.split())\n",
    "        else:\n",
    "            continue\n",
    "    \n",
    "    df = pd.DataFrame(data = dataList, columns = header)\n",
    "    totalTime = df[header[2]].sum()\n",
    "    df['time_ratio(%)'] = round(df[header[2]]/totalTime * 100, 1)\n",
    "    df[header[2]] = round(df[header[2]], 3)\n",
    "    df[header[3]] = round(df[header[3]] / threadCnt, 3)\n",
    "    df[header[4]] = round(df[header[4]] / threadCnt, 3)\n",
    "\n",
    "    # Get Top3\n",
    "    df = df.sort_values(by=['time_ratio(%)'], ascending=False).head(3)\n",
    "    top3 = []\n",
    "    for idx, row in df.loc[:,['Function', 'time_ratio(%)']].iterrows():\n",
    "        top3.append(f'{row[\"Function\"]} ({row[\"time_ratio(%)\"]}%)')\n",
    "    return TOP3(time, top3)\n",
    "    ## return top 3 func list"
   ]
  },
  {
   "cell_type": "code",
   "execution_count": 165,
   "metadata": {},
   "outputs": [],
   "source": [
    "\n",
    "filePath = './raw/trace_func.txt'\n",
    "f = open(filePath)\n",
    "\n",
    "time = 0\n",
    "lines = []\n",
    "TopData = []\n",
    "\n",
    "## 1초 단위로 lines 모아서 parseFunc 으로 전달\n",
    "for line in f.readlines():\n",
    "    if line.startswith('Time:'):\n",
    "        if len(lines) > 1:\n",
    "            TopData.append(parseFunc(time, lines))\n",
    "        time = re.findall(r'Time:\\s([\\d.]+)\\s', line)[0]\n",
    "        time = int(round(float(time)))\n",
    "        lines.clear()\n",
    "    lines.append(line)\n",
    "\n",
    "TopData.append(parseFunc(time, lines))\n",
    "f.close()\n",
    "\n",
    "outfile = open(filePath + '.parse', 'w')\n",
    "outfile.write('sec,top1,top2,top3\\n')\n",
    "for top3 in TopData:\n",
    "    outfile.write(f'{top3.time},{\",\".join(top3.top3)}\\n')\n",
    "outfile.close()\n",
    "\n"
   ]
  }
 ],
 "metadata": {
  "kernelspec": {
   "display_name": "Python 3",
   "language": "python",
   "name": "python3"
  },
  "language_info": {
   "codemirror_mode": {
    "name": "ipython",
    "version": 3
   },
   "file_extension": ".py",
   "mimetype": "text/x-python",
   "name": "python",
   "nbconvert_exporter": "python",
   "pygments_lexer": "ipython3",
   "version": "3.11.4"
  }
 },
 "nbformat": 4,
 "nbformat_minor": 2
}
