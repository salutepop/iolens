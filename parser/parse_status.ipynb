{
 "cells": [
  {
   "cell_type": "code",
   "execution_count": 31,
   "metadata": {},
   "outputs": [],
   "source": [
    "import re"
   ]
  },
  {
   "cell_type": "code",
   "execution_count": 32,
   "metadata": {},
   "outputs": [],
   "source": [
    "class STATUS:\n",
    "    time        :int    # sec\n",
    "    util        :int    # %\n",
    "    seg_valid   :int   # # of segments\n",
    "    seg_dirty   :int\n",
    "    seg_prefree :int\n",
    "    seg_free    :int\n",
    "    cp_calls    :int    # counts\n",
    "    cp_fg_calls :int    # counts\n",
    "    cp_bg_calls :int    # counts\n",
    "    gc_calls    :int    # counts\n",
    "    memory      :int  # kB\n",
    "    def parseInt(self):\n",
    "        self.time = int(self.time)\n",
    "        self.util = int(self.util)\n",
    "        self.seg_valid = int(self.seg_valid)\n",
    "        self.seg_dirty = int(self.seg_dirty)\n",
    "        self.seg_prefree = int(self.seg_prefree)\n",
    "        self.cp_calls = int(self.cp_calls)\n",
    "        self.cp_bg_calls = int(self.cp_bg_calls)\n",
    "        self.cp_fg_calls = self.cp_calls - self.cp_bg_calls\n",
    "        self.gc_calls = int(self.gc_calls)\n",
    "        self.memory = int(self.memory)\n"
   ]
  },
  {
   "cell_type": "code",
   "execution_count": 33,
   "metadata": {},
   "outputs": [],
   "source": [
    "def parseStatus(status:str):\n",
    "    raw = STATUS()\n",
    "    try:\n",
    "        idx = 0\n",
    "            # Header\n",
    "        raw.time = re.findall(r'Current Time Sec:\\s([\\d]+)\\s\\/', status)[0]\n",
    "        raw.util = re.findall(r'Utilization:\\s([\\d]+)\\%', status)[0]\n",
    "        \n",
    "        raw.seg_valid = re.findall(r'Valid:\\s([\\d]+)', status)[0]\n",
    "        raw.seg_dirty = re.findall(r'Dirty:\\s([\\d]+)', status)[0]\n",
    "        raw.seg_prefree = re.findall(r'Prefree:\\s([\\d]+)', status)[0]\n",
    "        raw.seg_free = re.findall(r'Free:\\s([\\d]+)', status)[0]\n",
    "        raw.cp_calls = re.findall(r'CP calls:\\s([\\d]+)\\s', status)[0]\n",
    "        raw.cp_bg_calls = re.findall(r'CP calls:\\s[\\d]+\\s\\(BG:\\s([\\d]+)\\)', status)[0]\n",
    "        raw.gc_calls = re.findall(r'GC calls:\\s([\\d]+)\\s', status)[0]\n",
    "        raw.memory = re.findall(r'Memory:\\s([\\d]+)\\sKB', status)[0]\n",
    "\n",
    "        return raw\n",
    "    except:\n",
    "        print(status)\n",
    "        print('except: ', raw.__dict__)"
   ]
  },
  {
   "cell_type": "code",
   "execution_count": 34,
   "metadata": {},
   "outputs": [],
   "source": [
    "def parseTrace(filename):\n",
    "    infile = open(filename, 'r')\n",
    "\n",
    "    idx = 0\n",
    "    lines=[]\n",
    "    result=[]\n",
    "    for line in infile.readlines():\n",
    "        if not line : continue\n",
    "        # print(idx, line)\n",
    "        lines.append(line)\n",
    "        if('paged :' in line):\n",
    "            # if(len(lines) > 1):\n",
    "            result.append(parseStatus(' '.join(lines)))\n",
    "            lines.clear()\n",
    "        \n",
    "        idx += 1\n",
    "    \n",
    "    # result.append(parseStatus(' '.join(lines))) # for remain lines\n",
    "    \n",
    "    infile.close()\n",
    "    outfile = open(filename + '.parse', 'w')\n",
    "    outfile.write(','.join(result[0].__dict__.keys()) + '\\n')\n",
    "    for item in result:\n",
    "        # outfile.write(item.)\n",
    "        outfile.write(','.join(item.__dict__.values()) + '\\n')\n",
    "    \n",
    "    outfile.close()\n",
    "\n",
    "    return outfile.name"
   ]
  },
  {
   "cell_type": "code",
   "execution_count": 35,
   "metadata": {},
   "outputs": [],
   "source": [
    "filename = './raw/f2fs_status.txt'\n",
    "parsedFile = parseTrace(filename)"
   ]
  }
 ],
 "metadata": {
  "kernelspec": {
   "display_name": "Python 3",
   "language": "python",
   "name": "python3"
  },
  "language_info": {
   "codemirror_mode": {
    "name": "ipython",
    "version": 3
   },
   "file_extension": ".py",
   "mimetype": "text/x-python",
   "name": "python",
   "nbconvert_exporter": "python",
   "pygments_lexer": "ipython3",
   "version": "3.11.4"
  }
 },
 "nbformat": 4,
 "nbformat_minor": 2
}
